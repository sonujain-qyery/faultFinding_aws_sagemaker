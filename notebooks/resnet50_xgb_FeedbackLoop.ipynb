{
 "cells": [
  {
   "cell_type": "markdown",
   "id": "f13aa818-eb28-4d27-bd7d-f32b570559a6",
   "metadata": {},
   "source": [
    "# Implement a feedback loop to update the model periodically with fresh manufacturing data."
   ]
  },
  {
   "cell_type": "code",
   "execution_count": 2,
   "id": "10930bf6-868c-4247-a0ae-c79abb61799e",
   "metadata": {},
   "outputs": [],
   "source": [
    "# Import the reuire library\n",
    "import numpy as np\n",
    "import xgboost as xgb\n",
    "from keras.applications import ResNet50\n",
    "from keras.preprocessing import image\n",
    "from keras.applications.resnet50 import preprocess_input\n",
    "from sklearn.model_selection import train_test_split\n",
    "import os\n",
    "from tqdm import tqdm\n",
    "import pickle\n",
    "from sklearn.metrics import accuracy_score ,classification_report,confusion_matrix,roc_auc_score,precision_score,recall_score\n",
    "from sklearn.metrics import f1_score,roc_curve,precision_recall_curve\n",
    "import pandas as pd\n",
    "import seaborn as sns\n",
    "import matplotlib.pyplot as plt\n",
    "%matplotlib inline"
   ]
  },
  {
   "cell_type": "markdown",
   "id": "636dc2c3-6cd7-4164-9f32-a292e6092baf",
   "metadata": {},
   "source": [
    "## DATA PREPROCESSING AND FEATURE ENGINERRING"
   ]
  },
  {
   "cell_type": "code",
   "execution_count": 3,
   "id": "c2d25614-9457-4828-a97a-2aeb35ac28f5",
   "metadata": {},
   "outputs": [],
   "source": [
    "# Load pre-trained ResNet-50 model\n",
    "resnet_model = ResNet50(weights='imagenet', include_top=False, pooling='avg')"
   ]
  },
  {
   "cell_type": "code",
   "execution_count": 4,
   "id": "27fd904c-bc01-48d9-ad0f-a171c2c4f7f8",
   "metadata": {},
   "outputs": [],
   "source": [
    "# Load and preprocess images \n",
    "# Here we will load the image with help of keras image preprocessing module and reshape it in 224x224 size\n",
    "# And process it with the help of Resnet inbuild preprocessing  funtion\n",
    "def preprocess_image(img_path):\n",
    "    img = image.load_img(img_path, target_size=(224, 224))\n",
    "    x = image.img_to_array(img)\n",
    "    x = np.expand_dims(x, axis=0)\n",
    "    x = preprocess_input(x)\n",
    "    return x"
   ]
  },
  {
   "cell_type": "code",
   "execution_count": 5,
   "id": "74acf1e0-1650-48d9-9d4f-8c9f29ddea44",
   "metadata": {},
   "outputs": [],
   "source": [
    "# Initiate the empty list to store image and label array\n",
    "X = []\n",
    "y = []"
   ]
  },
  {
   "cell_type": "code",
   "execution_count": 6,
   "id": "d3ff7fc8-93f5-48c9-a794-c4048548f5fa",
   "metadata": {
    "scrolled": true
   },
   "outputs": [
    {
     "name": "stdout",
     "output_type": "stream",
     "text": [
      "Parent Directory: E:\\upgrade_capston_project-main\n"
     ]
    }
   ],
   "source": [
    "# Get the current directory\n",
    "current_dir = os.getcwd()\n",
    "\n",
    "# Get the parent directory (one level up)\n",
    "current_dir = os.path.dirname(current_dir)\n",
    "\n",
    "\n",
    "# Get the parent directory (one level up)\n",
    "current_dir = os.path.dirname(current_dir)\n",
    "\n",
    "# Get the parent directory (one level up)\n",
    "parent_dir = os.path.dirname(current_dir)\n",
    "\n",
    "# Print the parent directory\n",
    "print(\"Parent Directory:\", parent_dir)"
   ]
  },
  {
   "cell_type": "code",
   "execution_count": 7,
   "id": "ff8e1761-0519-4e71-8538-7267de16acab",
   "metadata": {},
   "outputs": [],
   "source": [
    "# Dataset path\n",
    "directory = parent_dir+\"/datasets/feedbackLoopData/Digital images of defective and good condition tyres\""
   ]
  },
  {
   "cell_type": "code",
   "execution_count": 8,
   "id": "3a17eb33-0bd4-43a9-a42a-979a449f006d",
   "metadata": {},
   "outputs": [
    {
     "name": "stderr",
     "output_type": "stream",
     "text": [
      "\r",
      "  0%|                                                                                                                                                                                       | 0/4 [00:00<?, ?it/s]"
     ]
    },
    {
     "name": "stdout",
     "output_type": "stream",
     "text": [
      "\u001b[1m1/1\u001b[0m \u001b[32m━━━━━━━━━━━━━━━━━━━━\u001b[0m\u001b[37m\u001b[0m \u001b[1m9s\u001b[0m 9s/step\n"
     ]
    },
    {
     "name": "stderr",
     "output_type": "stream",
     "text": [
      "\r",
      " 25%|███████████████████████████████████████████▊                                                                                                                                   | 1/4 [00:11<00:33, 11.26s/it]"
     ]
    },
    {
     "name": "stdout",
     "output_type": "stream",
     "text": [
      "\u001b[1m1/1\u001b[0m \u001b[32m━━━━━━━━━━━━━━━━━━━━\u001b[0m\u001b[37m\u001b[0m \u001b[1m0s\u001b[0m 475ms/step\n"
     ]
    },
    {
     "name": "stderr",
     "output_type": "stream",
     "text": [
      "\r",
      " 50%|███████████████████████████████████████████████████████████████████████████████████████▌                                                                                       | 2/4 [00:12<00:10,  5.23s/it]"
     ]
    },
    {
     "name": "stdout",
     "output_type": "stream",
     "text": [
      "\u001b[1m1/1\u001b[0m \u001b[32m━━━━━━━━━━━━━━━━━━━━\u001b[0m\u001b[37m\u001b[0m \u001b[1m0s\u001b[0m 453ms/step\n"
     ]
    },
    {
     "name": "stderr",
     "output_type": "stream",
     "text": [
      "\r",
      " 75%|███████████████████████████████████████████████████████████████████████████████████████████████████████████████████████████████████▎                                           | 3/4 [00:13<00:03,  3.18s/it]"
     ]
    },
    {
     "name": "stdout",
     "output_type": "stream",
     "text": [
      "\u001b[1m1/1\u001b[0m \u001b[32m━━━━━━━━━━━━━━━━━━━━\u001b[0m\u001b[37m\u001b[0m \u001b[1m1s\u001b[0m 621ms/step\n"
     ]
    },
    {
     "name": "stderr",
     "output_type": "stream",
     "text": [
      "100%|███████████████████████████████████████████████████████████████████████████████████████████████████████████████████████████████████████████████████████████████████████████████| 4/4 [00:13<00:00,  3.47s/it]\n",
      "  0%|                                                                                                                                                                                       | 0/4 [00:00<?, ?it/s]"
     ]
    },
    {
     "name": "stdout",
     "output_type": "stream",
     "text": [
      "\u001b[1m1/1\u001b[0m \u001b[32m━━━━━━━━━━━━━━━━━━━━\u001b[0m\u001b[37m\u001b[0m \u001b[1m0s\u001b[0m 484ms/step\n"
     ]
    },
    {
     "name": "stderr",
     "output_type": "stream",
     "text": [
      "\r",
      " 25%|███████████████████████████████████████████▊                                                                                                                                   | 1/4 [00:00<00:02,  1.28it/s]"
     ]
    },
    {
     "name": "stdout",
     "output_type": "stream",
     "text": [
      "\u001b[1m1/1\u001b[0m \u001b[32m━━━━━━━━━━━━━━━━━━━━\u001b[0m\u001b[37m\u001b[0m \u001b[1m0s\u001b[0m 484ms/step\n"
     ]
    },
    {
     "name": "stderr",
     "output_type": "stream",
     "text": [
      "\r",
      " 50%|███████████████████████████████████████████████████████████████████████████████████████▌                                                                                       | 2/4 [00:01<00:01,  1.34it/s]"
     ]
    },
    {
     "name": "stdout",
     "output_type": "stream",
     "text": [
      "\u001b[1m1/1\u001b[0m \u001b[32m━━━━━━━━━━━━━━━━━━━━\u001b[0m\u001b[37m\u001b[0m \u001b[1m0s\u001b[0m 484ms/step\n"
     ]
    },
    {
     "name": "stderr",
     "output_type": "stream",
     "text": [
      "\r",
      " 75%|███████████████████████████████████████████████████████████████████████████████████████████████████████████████████████████████████▎                                           | 3/4 [00:02<00:00,  1.26it/s]"
     ]
    },
    {
     "name": "stdout",
     "output_type": "stream",
     "text": [
      "\u001b[1m1/1\u001b[0m \u001b[32m━━━━━━━━━━━━━━━━━━━━\u001b[0m\u001b[37m\u001b[0m \u001b[1m0s\u001b[0m 453ms/step\n"
     ]
    },
    {
     "name": "stderr",
     "output_type": "stream",
     "text": [
      "100%|███████████████████████████████████████████████████████████████████████████████████████████████████████████████████████████████████████████████████████████████████████████████| 4/4 [00:03<00:00,  1.32it/s]\n"
     ]
    }
   ],
   "source": [
    "# Itertate through Dataset and its subfolder to process image and extract the feature\n",
    "for label in os.listdir(directory):\n",
    "        label_dir = os.path.join(directory, label)\n",
    "        for filename in tqdm(os.listdir(label_dir)):\n",
    "            img_path = os.path.join(label_dir, filename)\n",
    "            img_features = resnet_model.predict(preprocess_image(img_path))\n",
    "            X.append(img_features)\n",
    "            y.append(label)\n"
   ]
  },
  {
   "cell_type": "code",
   "execution_count": 9,
   "id": "7545f71b-4da5-40d3-ac26-c24f63582e49",
   "metadata": {},
   "outputs": [],
   "source": [
    "# Convert to NumPy arrays\n",
    "X = np.array(X)\n",
    "y = np.array(y)"
   ]
  },
  {
   "cell_type": "code",
   "execution_count": 10,
   "id": "5b12b98b-6d2a-472f-8f61-feb3b1cb7ed5",
   "metadata": {},
   "outputs": [],
   "source": [
    "# Creating copy of feature\n",
    "X1 = X.copy()"
   ]
  },
  {
   "cell_type": "code",
   "execution_count": 11,
   "id": "8d8ad5fb-8515-41d8-9e6f-0538b587e830",
   "metadata": {},
   "outputs": [],
   "source": [
    "# Reshape the feature to make it compatible with Machine learning models \n",
    "X1 = np.reshape(X1 ,(X1.shape[0],X1.shape[1]*X1.shape[2]))"
   ]
  },
  {
   "cell_type": "code",
   "execution_count": 12,
   "id": "088c0d55-7e7d-4031-b6d7-a6d32fe8ab33",
   "metadata": {},
   "outputs": [],
   "source": [
    "# Creating a copy of labels\n",
    "y1 = y.copy()"
   ]
  },
  {
   "cell_type": "code",
   "execution_count": 13,
   "id": "271bb4f9-adda-42d8-aabb-603346e1fb9c",
   "metadata": {},
   "outputs": [],
   "source": [
    "# Replace all occurrences defective as 0 and good as 1\n",
    "for i in range(len(y1)):\n",
    "    if y1[i]=='defective' : \n",
    "        y1[i] = 0\n",
    "    else:\n",
    "        y1[i] = 1"
   ]
  },
  {
   "cell_type": "code",
   "execution_count": 14,
   "id": "5cb35909-60f3-441c-96b5-1c4ebb7b1288",
   "metadata": {},
   "outputs": [],
   "source": [
    "# Conert it into string to int\n",
    "y1=y1.astype(int)"
   ]
  },
  {
   "cell_type": "code",
   "execution_count": 26,
   "id": "f39f0d3e-b2c5-42ec-958f-1a2939a0b707",
   "metadata": {},
   "outputs": [],
   "source": [
    "# Split dataset into training and testing sets in 80-20 ratio\n",
    "X_train, X_test, y_train, y_test = train_test_split(X1, y1, test_size=0.1, random_state=42)"
   ]
  },
  {
   "cell_type": "code",
   "execution_count": 27,
   "id": "7622ea54-82be-4d3c-b21f-7e952102d8bf",
   "metadata": {},
   "outputs": [
    {
     "data": {
      "text/plain": [
       "'E:\\\\upgrade_capston_project-main/models/'"
      ]
     },
     "execution_count": 27,
     "metadata": {},
     "output_type": "execute_result"
    }
   ],
   "source": [
    "model_dir = parent_dir+'/models/'\n",
    "model_dir"
   ]
  },
  {
   "cell_type": "code",
   "execution_count": 28,
   "id": "37222836-064d-43c1-a392-bcaeaab321c8",
   "metadata": {},
   "outputs": [],
   "source": [
    "# Load the saved model from file\n",
    "with open(os.path.join(model_dir,'RESNET50_xgbClassifier_model.pkl'), 'rb') as f:\n",
    "    xgb_model = pickle.load(f)"
   ]
  },
  {
   "cell_type": "markdown",
   "id": "840c2e79-af1e-4542-b454-e3bde5892dd8",
   "metadata": {},
   "source": [
    "# Trained the PreTrained Model with new dataset"
   ]
  },
  {
   "cell_type": "code",
   "execution_count": 29,
   "id": "6111472e-2250-41a7-be00-b32edc64c096",
   "metadata": {},
   "outputs": [],
   "source": [
    "model = xgb.XGBClassifier()\n",
    "# Train the model\n",
    "model = model.fit(X_train, y_train,xgb_model = xgb_model)"
   ]
  },
  {
   "cell_type": "code",
   "execution_count": 30,
   "id": "dda6d261-1287-46a3-ad0f-a34c12a6a352",
   "metadata": {},
   "outputs": [],
   "source": [
    "# Save the trained model to a file\n",
    "with open(os.path.join(model_dir,'RESNET50_xgbClassifier_model.pkl'),'wb') as f:\n",
    "    pickle.dump(model, f)"
   ]
  },
  {
   "cell_type": "markdown",
   "id": "6f5473ad-c4b1-497e-bf53-a22cb0d60a8e",
   "metadata": {},
   "source": [
    "# I don't have much fresh dataset , so i just uploaded 4-4 picture in defective and good , so accuracy can't be calculaed in much efficient way due to lack of train and test data.So i tested with existing test dataset and its working upto the mark and commented the code.\n",
    "# In Real world , We will be having suffiecient freash data to train and test."
   ]
  },
  {
   "cell_type": "code",
   "execution_count": 41,
   "id": "37eacc06-cecc-48bd-a86f-ab33d91b5f0a",
   "metadata": {},
   "outputs": [],
   "source": [
    "#  preprocessed_data_dir = parent_dir+'/datasets/processed_dataset/'"
   ]
  },
  {
   "cell_type": "code",
   "execution_count": 42,
   "id": "e13c5ab5-0400-46ff-ae41-43ce2d7e70ba",
   "metadata": {},
   "outputs": [],
   "source": [
    "# # Load X_test from file\n",
    "# with open(os.path.join(preprocessed_data_dir,'resnetX_test.pkl'), 'rb') as f:\n",
    "#     X_test = pickle.load(f)\n",
    "    \n",
    "# # Load y_test from file\n",
    "# with open(os.path.join(preprocessed_data_dir,'resnety_test.pkl'), 'rb') as f:\n",
    "#     y_test = pickle.load(f)"
   ]
  },
  {
   "cell_type": "code",
   "execution_count": 43,
   "id": "c0d455e3-5898-4f01-941c-efe316702476",
   "metadata": {},
   "outputs": [],
   "source": [
    "# # Replace all occurrences defective as 0 and good as 1\n",
    "# for i in range(len(y_test)):\n",
    "#     if y_test[i]=='defective' : \n",
    "#         y_test[i] = 0\n",
    "#     else:\n",
    "#         y_test[i] = 1\n",
    "# y_test = y_test.astype(int)"
   ]
  },
  {
   "cell_type": "code",
   "execution_count": 44,
   "id": "6e581a8b-35f9-4d13-833a-40a0e301ccd9",
   "metadata": {},
   "outputs": [],
   "source": [
    "# Prediction on test data with the help of trained model\n",
    "y_pred = model.predict(X_test)"
   ]
  },
  {
   "cell_type": "code",
   "execution_count": 45,
   "id": "4ed2f4a6-0b90-447b-b010-73e810f83d28",
   "metadata": {},
   "outputs": [],
   "source": [
    "# Calculate performance metrics\n",
    "\n",
    "accuracy = accuracy_score(y_test, y_pred)\n",
    "precision = precision_score(y_test, y_pred)\n",
    "recall = recall_score(y_test, y_pred)\n",
    "f1 = f1_score(y_test, y_pred)\n",
    "conf_matrix = confusion_matrix(y_test, y_pred)\n",
    "roc_auc = roc_auc_score(y_test, y_pred)\n",
    "fpr, tpr, _ = roc_curve(y_test, y_pred)\n",
    "precision, recall, _ = precision_recall_curve(y_test, y_pred)"
   ]
  },
  {
   "cell_type": "code",
   "execution_count": 46,
   "id": "bf6691d0-7ceb-4ec8-ab9d-59f8673b644f",
   "metadata": {},
   "outputs": [
    {
     "name": "stdout",
     "output_type": "stream",
     "text": [
      "Accuracy: 0.9408602150537635\n",
      "Precision: [0.44086022 0.91764706 1.        ]\n",
      "Recall: [1.         0.95121951 0.        ]\n",
      "F1-score: 0.9341317365269461\n",
      "Confusion Matrix:\n",
      " [[194  14]\n",
      " [  8 156]]\n",
      "ROC AUC Score: 0.9419559099437148\n"
     ]
    }
   ],
   "source": [
    "# Print performance metrics\n",
    "print(\"Accuracy:\", accuracy)\n",
    "print(\"Precision:\", precision)\n",
    "print(\"Recall:\", recall)\n",
    "print(\"F1-score:\", f1)\n",
    "print(\"Confusion Matrix:\\n\", conf_matrix)\n",
    "print(\"ROC AUC Score:\", roc_auc)"
   ]
  },
  {
   "cell_type": "code",
   "execution_count": null,
   "id": "b583cc56-a633-417e-a234-94fcd4bca7ce",
   "metadata": {},
   "outputs": [],
   "source": []
  }
 ],
 "metadata": {
  "kernelspec": {
   "display_name": "Python 3 (ipykernel)",
   "language": "python",
   "name": "python3"
  },
  "language_info": {
   "codemirror_mode": {
    "name": "ipython",
    "version": 3
   },
   "file_extension": ".py",
   "mimetype": "text/x-python",
   "name": "python",
   "nbconvert_exporter": "python",
   "pygments_lexer": "ipython3",
   "version": "3.11.5"
  }
 },
 "nbformat": 4,
 "nbformat_minor": 5
}
