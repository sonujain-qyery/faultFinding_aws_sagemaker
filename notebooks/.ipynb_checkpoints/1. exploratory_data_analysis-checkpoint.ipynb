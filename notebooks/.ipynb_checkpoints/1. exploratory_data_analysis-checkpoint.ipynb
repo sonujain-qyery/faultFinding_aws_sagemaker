{
 "cells": [
  {
   "cell_type": "raw",
   "id": "06fa6f6b-e31a-4dc4-9cd9-1dd04f1ca6f6",
   "metadata": {},
   "source": [
    "Exploratory Data Analysis (EDA) : involves understanding the characteristics of the image dataset, exploring its structure, and gaining insights into the distribution and content of the images. Here's how you can perform EDA for image data:\n",
    "\n",
    "Dataset Overview:\n",
    "\n",
    "Check the size of the dataset (number of images).\n",
    "Understand the dimensions of the images (width, height, number of channels).\n",
    "Verify the format of the images (e.g., JPEG, PNG).\n",
    "\n",
    "Visual Inspection:\n",
    "\n",
    "Display a random sample of images from the dataset to get a visual understanding of the data.\n",
    "Check for any anomalies or issues with the images (e.g., corrupted images, mislabeled images).\n",
    "\n",
    "Class Distribution:\n",
    "\n",
    "If the dataset is labeled, analyze the distribution of classes.\n",
    "Plot histograms or countplots to visualize the distribution of classes.\n",
    "Identify any class imbalances that may need to be addressed during modeling.\n",
    "\n"
   ]
  },
  {
   "cell_type": "markdown",
   "id": "c13bc7c8-1f67-4968-9e49-d9a1989f3b92",
   "metadata": {},
   "source": [
    "# CAN NOT DOWNLOAD THE DATASETS as it is more then 5GB during the extraction of dataset and The Space is just 5 GB for Free Tier.\n",
    "# Hence I added the steps but not executing it , i will utilize the processed dataset for training purpose , hence skipping the EDA and Data preprocessing here"
   ]
  },
  {
   "cell_type": "code",
   "execution_count": 1,
   "id": "4c7a7c0f-cc45-4180-b2e4-057ca2e5e0e7",
   "metadata": {},
   "outputs": [
    {
     "name": "stderr",
     "output_type": "stream",
     "text": [
      "2024-05-22 19:09:58.246665: I tensorflow/core/platform/cpu_feature_guard.cc:182] This TensorFlow binary is optimized to use available CPU instructions in performance-critical operations.\n",
      "To enable the following instructions: SSE4.1 SSE4.2 AVX AVX2 AVX512F FMA, in other operations, rebuild TensorFlow with the appropriate compiler flags.\n"
     ]
    }
   ],
   "source": [
    "# Import Required Library [Detailed Description available in README.md file]\n",
    "import zipfile\n",
    "import os\n",
    "import numpy as np\n",
    "import tensorflow as tf\n",
    "import matplotlib.pyplot as plt\n",
    "import seaborn as sns\n",
    "%matplotlib inline"
   ]
  },
  {
   "cell_type": "code",
   "execution_count": 2,
   "id": "00452af0-5cf2-451e-8228-e27188908171",
   "metadata": {},
   "outputs": [],
   "source": [
    "# Loading the data using tensor flow"
   ]
  },
  {
   "cell_type": "code",
   "execution_count": 4,
   "id": "1b0e25c0-9ae1-4fcc-b00a-58ae04ee8a46",
   "metadata": {},
   "outputs": [
    {
     "name": "stdout",
     "output_type": "stream",
     "text": [
      "Parent Directory: /home/sagemaker-user/faultFinding_aws_sagemaker\n"
     ]
    }
   ],
   "source": [
    "# Get the current directory\n",
    "current_dir = os.getcwd()\n",
    "\n",
    "# Get the parent directory (one level up)\n",
    "parent_dir = os.path.dirname(current_dir)\n",
    "\n",
    "# # Get the parent directory (one level up)\n",
    "# parent_dir = os.path.dirname(current_dir)\n",
    "\n",
    "# Print the parent directory\n",
    "print(\"Parent Directory:\", parent_dir)"
   ]
  },
  {
   "cell_type": "code",
   "execution_count": null,
   "id": "6f10973b-e634-444c-b7f9-304ca613fb2b",
   "metadata": {},
   "outputs": [],
   "source": [
    "# Download the zip file with the help of curl command\n",
    "!curl https://kh3-ls-storage.s3.us-east-1.amazonaws.com/Updated%20Project%20guide%20data%20set/Faultfindy.zip --output ../datasets/Faultfindy.zip"
   ]
  },
  {
   "cell_type": "code",
   "execution_count": null,
   "id": "ad4e6adf-885d-4534-b519-870563a7d518",
   "metadata": {},
   "outputs": [],
   "source": [
    "# Path to the zip file\n",
    "zip_file_path = parent_dir+\"/datasets/raw_dataset/Faultfindy.zip\"\n",
    "\n",
    "# url = \"https://kh3-ls-storage.s3.us-east-1.amazonaws.com/Updated%20Project%20guide%20data%20set/Faultfindy.zip\"\n",
    "\n",
    "# tf.keras.utils.get_file(zip_file_path,origin=url,extract=False)\n",
    "\n",
    "\n",
    "# Directory where you want to extract the contents of the zip file\n",
    "extracted_dir = parent_dir+'/datasets/raw_dataset/'\n",
    "\n",
    "# Open the zip file for reading\n",
    "with zipfile.ZipFile(zip_file_path, 'r') as zip_ref:\n",
    "    # Extract all the contents of the zip file into the specified directory\n",
    "    zip_ref.extractall(extracted_dir)\n",
    "\n",
    "\n",
    "print(\"Data extraction completed.\")\n"
   ]
  },
  {
   "cell_type": "code",
   "execution_count": null,
   "id": "db9673b5-5324-45bd-855c-33fe4cee7d06",
   "metadata": {},
   "outputs": [],
   "source": [
    "Batch_size =32 # the Batch size is to fetch the data\n",
    "IMG_size = (256,256) # Image size in which the image should be fetched\n",
    "dataset_dir = extracted_dir+\"Digital images of defective and good condition tyres\" # dataset directory"
   ]
  },
  {
   "cell_type": "code",
   "execution_count": null,
   "id": "c08cf736-22c0-484c-8448-0238d0e378f6",
   "metadata": {},
   "outputs": [],
   "source": [
    "#Load the data with the help of the tensorflow keras utils model :\n",
    "dataset =  tf.keras.utils.image_dataset_from_directory(dataset_dir ,image_size=IMG_size)                                                                                 "
   ]
  },
  {
   "cell_type": "code",
   "execution_count": null,
   "id": "a73cd4a6-363f-4d76-8423-1c50015166c7",
   "metadata": {},
   "outputs": [],
   "source": [
    "#Class Name : \n",
    "class_name= dataset.class_names\n",
    "class_name"
   ]
  },
  {
   "cell_type": "code",
   "execution_count": null,
   "id": "cce029fa-1cb6-40dc-9b81-e3ee5eacc788",
   "metadata": {},
   "outputs": [],
   "source": [
    "#Visualization of the random dataset image :\n",
    "plt.figure(figsize=(10,10))\n",
    "for image, labels in dataset.take(1):\n",
    "    for i in range(9):\n",
    "        ax = plt.subplot(3,3,i+1)\n",
    "        plt.imshow(image[i].numpy().astype('uint8'))\n",
    "        plt.title(class_name[labels[i]])       \n"
   ]
  },
  {
   "cell_type": "code",
   "execution_count": null,
   "id": "a365627f-24a5-4769-9de3-2af49fdab308",
   "metadata": {
    "scrolled": true
   },
   "outputs": [],
   "source": [
    "# Initialize an empty dictionary to store class counts\n",
    "class_counts = {}\n",
    "\n",
    "# Iterate over the dataset to count occurrences of each class\n",
    "for images, labels in dataset:\n",
    "    for label in labels.numpy():\n",
    "        class_name = dataset.class_names[label]\n",
    "        if class_name in class_counts:\n",
    "            class_counts[class_name] += 1\n",
    "        else:\n",
    "            class_counts[class_name] = 1\n",
    "\n",
    "# Print class distribution\n",
    "print(\"Class Distribution:\")\n",
    "for class_name, count in class_counts.items():\n",
    "    print(f\"{class_name}: {count} samples\")"
   ]
  },
  {
   "cell_type": "code",
   "execution_count": null,
   "id": "691657c3-ef4e-4943-9698-0d88b82cfd05",
   "metadata": {},
   "outputs": [],
   "source": [
    "# Initialize an empty list to store class counts\n",
    "class_counts = []\n",
    "\n",
    "# Iterate over the dataset to count occurrences of each class\n",
    "for images, labels in dataset:\n",
    "    for label in labels.numpy():\n",
    "        class_counts.append(label)\n",
    "\n"
   ]
  },
  {
   "cell_type": "code",
   "execution_count": null,
   "id": "eff42a80-c600-48ee-9792-a071bc1b0853",
   "metadata": {},
   "outputs": [],
   "source": [
    "# Plot count plot for class distribution\n",
    "plt.figure(figsize=(10, 6))\n",
    "plt.hist(class_counts, bins=len(dataset.class_names), alpha=0.5, color='b', edgecolor='k')\n",
    "plt.title('Class Distribution')\n",
    "plt.xlabel('Class')\n",
    "plt.ylabel('Frequency')\n",
    "plt.xticks(range(len(dataset.class_names)), dataset.class_names)\n",
    "plt.grid(axis='y', alpha=0.75)\n",
    "\n",
    "\n",
    "# Save the plot in visuals folder\n",
    "\n",
    "plt.savefig(parent_dir+'\\\\visuals\\\\class_distribution.png')\n",
    "\n",
    "plt.show()"
   ]
  },
  {
   "cell_type": "code",
   "execution_count": null,
   "id": "74facc46",
   "metadata": {},
   "outputs": [],
   "source": []
  }
 ],
 "metadata": {
  "kernelspec": {
   "display_name": "Python 3 (ipykernel)",
   "language": "python",
   "name": "python3"
  },
  "language_info": {
   "codemirror_mode": {
    "name": "ipython",
    "version": 3
   },
   "file_extension": ".py",
   "mimetype": "text/x-python",
   "name": "python",
   "nbconvert_exporter": "python",
   "pygments_lexer": "ipython3",
   "version": "3.10.14"
  }
 },
 "nbformat": 4,
 "nbformat_minor": 5
}
